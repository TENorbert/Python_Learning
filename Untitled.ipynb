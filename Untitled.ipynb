{
 "cells": [
  {
   "cell_type": "code",
   "execution_count": 9,
   "metadata": {
    "collapsed": false
   },
   "outputs": [
    {
     "name": "stdout",
     "output_type": "stream",
     "text": [
      "Enter Integer: 30\n",
      "{1: 1, 2: 4, 3: 9, 4: 16, 5: 25, 6: 36, 7: 49, 8: 64}\n"
     ]
    }
   ],
   "source": [
    "from collections import OrderedDict\n",
    "import  sys\n",
    "import pygame as pg\n",
    "\n",
    "import time as dt\n",
    "\n",
    "def fact(num):\n",
    "    if num <= 1:\n",
    "        return 1\n",
    "    else:\n",
    "        return num*fact(num-1)\n",
    "\n",
    "\n",
    "def dp_fact(num):\n",
    "    ## initialised\n",
    "    f = [None]*(num + 1)\n",
    "    if f[num] != None:\n",
    "        return f[num]\n",
    "    f[0] = 1\n",
    "    f[1] = 1\n",
    "    #Subprograms\n",
    "    for i in range(2,num+1):\n",
    "        f[i] = i*f[i-1]\n",
    "        \n",
    "    return f[num]\n",
    "\n",
    "\n",
    "# dict with (i, i*i)\n",
    "def integral_dict(n):\n",
    "    \"\"\" create dict with (i, i*i) where i is integral\"\"\"\n",
    "    try:\n",
    "        element_dict = {}\n",
    "        for i in range(1, n+1):\n",
    "            element_dict[i] = i*i\n",
    "        \n",
    "        print(element_dict)\n",
    "    \n",
    "    except Exception as e:\n",
    "        print(e, type(e))\n",
    "\"\"\"\n",
    "N = 8\n",
    "srt = dt.time()\n",
    "fact(N)\n",
    "stp = dt.time()\n",
    "elapse = stp-srt\n",
    "print(\"Factorial of {0} is = {1}\".format(N, fact(N)))\n",
    "print(\"Factorial time = %s seconds \" %(elapse))\n",
    "\n",
    "srt = dt.time()\n",
    "dp_fact(N)\n",
    "stp = dt.time()\n",
    "elapse = stp-srt\n",
    "print(\"DP Factorial of {0} is = {1}\".format(N, dp_fact(N)))\n",
    "print(\"DP Fcatorial time = %s seconds \" %(elapse))\n",
    "\"\"\"\n",
    "N = int(input(\"Enter Integer: \"))\n",
    "integral_dict(8)"
   ]
  },
  {
   "cell_type": "markdown",
   "metadata": {},
   "source": []
  },
  {
   "cell_type": "code",
   "execution_count": 24,
   "metadata": {
    "collapsed": false
   },
   "outputs": [],
   "source": [
    "import pandas as pd\n",
    "import numpy as np\n",
    "#myd = {}\n",
    "#df = pd.read_csv('/home/tenai/DataEngineering/edgar-analytics/input/log.csv')\n",
    "#df\n",
    "#myd = df[['ip', 'date', 'time']]\n",
    "#myd['ip']\n"
   ]
  },
  {
   "cell_type": "code",
   "execution_count": null,
   "metadata": {
    "collapsed": true
   },
   "outputs": [],
   "source": []
  }
 ],
 "metadata": {
  "kernelspec": {
   "display_name": "Python 3",
   "language": "python",
   "name": "python3"
  },
  "language_info": {
   "codemirror_mode": {
    "name": "ipython",
    "version": 3
   },
   "file_extension": ".py",
   "mimetype": "text/x-python",
   "name": "python",
   "nbconvert_exporter": "python",
   "pygments_lexer": "ipython3",
   "version": "3.6.0"
  }
 },
 "nbformat": 4,
 "nbformat_minor": 2
}
